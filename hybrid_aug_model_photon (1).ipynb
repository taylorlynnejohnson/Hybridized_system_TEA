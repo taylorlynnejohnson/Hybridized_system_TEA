{
 "cells": [
  {
   "cell_type": "code",
   "execution_count": null,
   "id": "ee67e79a-62fa-41a0-84ae-1c304f2a8ab7",
   "metadata": {},
   "outputs": [],
   "source": [
    "# -*- coding: utf-8 -*-\n",
    "\"\"\"\n",
    "Created on Tue Jan  9 2024\n",
    "\n",
    "@author: lpmclau\n",
    "\"\"\"\n",
    "import numpy as np\n",
    "def hybrid_aug_model_photon(years):\n",
    "\n",
    "    \"\"\"\n",
    "    This model determines component augmentation schedules and costs. First, the model determines the energy capacity that must \n",
    "    augment the battery field on an annual basis to maintain a fixed dischargeable energy output. Electric particle heater replacment years\n",
    "    are specified. The model then calculates the augmentation costs for batteries and heaters over time. Additional augmentation items can\n",
    "    be added following the annualized approach. \n",
    "    \n",
    "    The battery augmentation strategy is an adaption of the battery degradation rates and replacment schedule presented in the\n",
    "    2022 Grid Energy Storage Technology Cost and Performance Assessment.\n",
    "    \n",
    "    Parameters:\n",
    "    - dod_i (float): Initial depth of discharge (0 < dod_i <= 1)\n",
    "    - dod_f (float): Final depth of discharge after augmentation (0 < dod_f <= 1)\n",
    "    - sys_cap_mwh (float): Battery system capacity in MWh (MWh)\n",
    "    - years (int): Number of project years (not analysis) for calculation (Yrs)\n",
    "    - pr (float): Power rating for the batteries (MW)\n",
    "    - rte (float): Battery round-trip efficiency (0 < rte <= 1)\n",
    "    - n60, n80 (int): Number of cycles to 60% and 80% depth of discharge (# cycles)\n",
    "    - cost_rod, cost_ctrl, cost_shell (float): Costs of rod, controller, and shell components ($/kW)\n",
    "    - prh (float): Power rating for the heater (MW)\n",
    "\n",
    "    Returns:\n",
    "    - cpx_aug_annual (np.array): Annual augmentation costs for batteries ($)\n",
    "    - CPX_yr1_battery_USD (float): Year 1 cost for the battery system ($)\n",
    "    - cpx_heater_aug_annual (np.array): Annual augmentation costs for heaters ($)\n",
    "    - CPX_yr1_heater_USD (float): Year 1 cost for heater components ($)\n",
    "    \n",
    "    Dependencies:\n",
    "    - numpy for numerical calculations\n",
    "    \"\"\"\n",
    "    prh = 0\n",
    "    \n",
    "    cpx_heater_aug_annual = np.zeros(years)\n",
    "    for year in range(years):\n",
    "        cpx_heater_aug_annual[year] = 0 if year in [10, 20] else 0\n",
    "        \n",
    "    return cpx_heater_aug_annual"
   ]
  }
 ],
 "metadata": {
  "kernelspec": {
   "display_name": "Python 3 (ipykernel)",
   "language": "python",
   "name": "python3"
  },
  "language_info": {
   "codemirror_mode": {
    "name": "ipython",
    "version": 3
   },
   "file_extension": ".py",
   "mimetype": "text/x-python",
   "name": "python",
   "nbconvert_exporter": "python",
   "pygments_lexer": "ipython3",
   "version": "3.12.4"
  }
 },
 "nbformat": 4,
 "nbformat_minor": 5
}
