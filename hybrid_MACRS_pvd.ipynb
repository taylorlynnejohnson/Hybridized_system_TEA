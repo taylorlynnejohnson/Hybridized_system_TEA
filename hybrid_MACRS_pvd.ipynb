{
 "cells": [
  {
   "cell_type": "code",
   "execution_count": null,
   "id": "c011f35e-253f-4b80-a777-c0805460e0d6",
   "metadata": {},
   "outputs": [],
   "source": [
    "# -*- coding: utf-8 -*-\n",
    "\"\"\"\n",
    "Created on Fri Feb  9 2024\n",
    "\n",
    "@author: lpmclau\n",
    "\"\"\"\n",
    "import numpy_financial as npf\n",
    "def hybrid_MACRS_pvd(input_year, WACC_n):\n",
    "    \"\"\"\n",
    "    This model calculates the MACRS Present Value of Depreciation (PVD) for a specified input year.\n",
    "\n",
    "    Parameters:\n",
    "    - input_year (int): The depreciation period (Yrs).\n",
    "    - WACC_n (float): The Weighted Average Cost of Capital, nominal rate (frac)\n",
    "\n",
    "    Returns:\n",
    "    - PVD (float): The PVD for the specified input year (frac)\n",
    "    \n",
    "    Dependencies:\n",
    "    - numpy_financial for financial functions\n",
    "    \"\"\"\n",
    "    # stores MACRS depreciation rates for different recovery periods \n",
    "    macrs_rates = {\n",
    "    3: [0.3333, 0.4445, 0.1481, 0.0741],  # 3-year property\n",
    "    5: [0.2000, 0.3200, 0.1920, 0.1152, 0.1152, 0.0576],  # 5-year property\n",
    "    7: [0.1429, 0.2449, 0.1749, 0.1249, 0.0893, 0.0892, 0.0893, 0.0446]  # 7-year property\n",
    "}\n",
    "\n",
    "    if input_year in macrs_rates:\n",
    "        macrs_schedule = macrs_rates[input_year]\n",
    "        return sum(rate * npf.pv(rate=WACC_n, nper=year, pmt=0, fv=-1) for year, rate in enumerate(macrs_schedule, start=1))"
   ]
  }
 ],
 "metadata": {
  "kernelspec": {
   "display_name": "Python 3 (ipykernel)",
   "language": "python",
   "name": "python3"
  },
  "language_info": {
   "codemirror_mode": {
    "name": "ipython",
    "version": 3
   },
   "file_extension": ".py",
   "mimetype": "text/x-python",
   "name": "python",
   "nbconvert_exporter": "python",
   "pygments_lexer": "ipython3",
   "version": "3.12.4"
  }
 },
 "nbformat": 4,
 "nbformat_minor": 5
}
